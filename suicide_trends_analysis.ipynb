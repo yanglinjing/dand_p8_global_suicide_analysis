{
  "nbformat": 4,
  "nbformat_minor": 0,
  "metadata": {
    "colab": {
      "name": "suicide_trends_analysis.ipynb",
      "version": "0.3.2",
      "provenance": []
    },
    "kernelspec": {
      "name": "python3",
      "display_name": "Python 3"
    }
  },
  "cells": [
    {
      "metadata": {
        "id": "WKtigOxcAHYe",
        "colab_type": "text"
      },
      "cell_type": "markdown",
      "source": [
        "# Suicide Trend Analysis (1985-2016)\n",
        "## -- By  Economy, Gender, Age, Generation, Countries\n",
        "\n",
        "(Tableau Project)"
      ]
    },
    {
      "metadata": {
        "id": "wZlDa8G5gnq-",
        "colab_type": "text"
      },
      "cell_type": "markdown",
      "source": [
        "## Introduction\n",
        "This is a Tableau Project published on [my Tableau Public](https://public.tableau.com/profile/linjing7424#!/vizhome/SuicideRateAnalysis2/1).\n",
        "\n",
        "The goal of this project aims at improving suicide prevention. The age, gender, generation, nationality of people who died by suicide have been analysed, as well as the economy of the countries. \n",
        "\n",
        "## Data\n",
        "\n",
        "The data for this project consists of one data file (comes originally from [Kaggle](https://www.kaggle.com/russellyates88/suicide-rates-overview-1985-to-2016)):\n",
        "\n",
        "- `suicide.csv`: 27820 data points (rows) with 12 columns\n",
        "\n",
        "The columns include:\n",
        "\n",
        "1. country\n",
        "- year\n",
        "- sex\n",
        "- age\n",
        "- suicides_no\n",
        "- population\n",
        "- suicides/100k pop\n",
        "- country-year\n",
        "- HDI for year\n",
        "- gdp_for_year (USD)\n",
        "- gdp_per_capita (USD)\n",
        "- generation\n",
        "\n",
        "## Summary\n",
        "\n",
        "From the graphs, it can be seen that different age, gender, generation groups have a signifcate impact on the suicide rates. People who belong to the groups of males, older people, or earlier generation have a higher suicide rate. \n",
        "\n",
        "GDP also significantly affect them - as the global GDP per Capita (USD) increases, the global suicide rate decreases.\n",
        "\n",
        "Besides, the rates largely vary among countries.\n",
        "\n",
        "\n",
        "\n",
        "## Design\n",
        "\n",
        "\n",
        "- This dataset includes geographic data, so I used the world map to show the different suicide rates among countries and regions. \n",
        "\n",
        "- It also include years, which makes it easy to present how the rates change with time among people of different age, gender, generation groups.\n",
        "\n",
        "- Bar charts are used to compare the differences of rates between different age, gender, generation groups.\n",
        "\n",
        "- To compare the trends of world economy and suicide rates, I used bars for the economy indicators and lines for the rates to separate them visually.\n",
        "\n",
        "- It might be worth for readers to find the trends of some specific countries, so I put the multiple  selector beside the graphs.\n",
        "\n",
        "\n",
        "## Feedback\n",
        "\n",
        "*@Eileen* gave me some feedbak on [my first sketch](https://public.tableau.com/profile/linjing7424#!/vizhome/SuicideRateAnalysis/1):\n",
        "\n",
        "> A very interesting story! For the different generations, you should explain the terms \"Generation Z\", \"Millenials\", ... etc. with years. You cannot assume that all readers now when to place them. \n",
        "\n",
        "> For the last slide, it might be nice to additionally see the global statistics divided by gender.\n",
        "\n",
        "### Changes after collecting feedback\n",
        "In the original sourch, I did not find the specific start / end year of each generation. Thus, I checked it online. However, for most of the generations (except baby boomers), there is no specific specific start / end year, and only decades are available. Finally I used decades to describe the generations for those who might not familiar with them.\n",
        "\n",
        "In my initial sketch, I did include the global statistics divided by gender, but I put the graph at the beginning of the story, far from the dashboard of gender difference among countries. Now I put them next to each other, so readers can easily compare them.\n",
        "\n",
        "\n",
        "## Resources\n",
        "N/A"
      ]
    },
    {
      "metadata": {
        "id": "ivPZkCsgAJJ3",
        "colab_type": "code",
        "outputId": "277e93b8-1383-422a-90f7-3d2c8c4e0f78",
        "colab": {
          "base_uri": "https://localhost:8080/",
          "height": 121
        }
      },
      "cell_type": "code",
      "source": [
        "# All the documents are stored on Google Drive.\n",
        "# It requires authorisation before use them.\n",
        "# This chunk of code is about authorisation.\n",
        "\n",
        "# Mounting Google Drive locally\n",
        "# https://colab.research.google.com/notebooks/io.ipynb#scrollTo=u22w3BFiOveA\n",
        "\n",
        "from google.colab import drive\n",
        "drive.mount('/content/gdrive')"
      ],
      "execution_count": 1,
      "outputs": [
        {
          "output_type": "stream",
          "text": [
            "Go to this URL in a browser: https://accounts.google.com/o/oauth2/auth?client_id=947318989803-6bn6qk8qdgf4n4g3pfee6491hc0brc4i.apps.googleusercontent.com&redirect_uri=urn%3Aietf%3Awg%3Aoauth%3A2.0%3Aoob&scope=email%20https%3A%2F%2Fwww.googleapis.com%2Fauth%2Fdocs.test%20https%3A%2F%2Fwww.googleapis.com%2Fauth%2Fdrive%20https%3A%2F%2Fwww.googleapis.com%2Fauth%2Fdrive.photos.readonly%20https%3A%2F%2Fwww.googleapis.com%2Fauth%2Fpeopleapi.readonly&response_type=code\n",
            "\n",
            "Enter your authorization code:\n",
            "··········\n",
            "Mounted at /content/gdrive\n"
          ],
          "name": "stdout"
        }
      ]
    },
    {
      "metadata": {
        "id": "z7ePUy2Vfyvg",
        "colab_type": "code",
        "outputId": "e2763bd2-2f32-46b5-91c0-15a122c0cf35",
        "colab": {
          "base_uri": "https://localhost:8080/",
          "height": 34
        }
      },
      "cell_type": "code",
      "source": [
        "!pwd"
      ],
      "execution_count": 0,
      "outputs": [
        {
          "output_type": "stream",
          "text": [
            "/content/gdrive/My Drive/Colab Notebooks/dand_p8_tableau\n"
          ],
          "name": "stdout"
        }
      ]
    },
    {
      "metadata": {
        "id": "LAqp2ilk04ai",
        "colab_type": "code",
        "outputId": "1cc3cf57-320a-4fcf-8de1-2cf9d7ef8efc",
        "colab": {
          "base_uri": "https://localhost:8080/",
          "height": 34
        }
      },
      "cell_type": "code",
      "source": [
        "# CPU!!! --gdrive\n",
        "#google colab - change path to google drive\n",
        "\n",
        "import os \n",
        "os.chdir('gdrive/My Drive/Colab Notebooks/dand_p8_tableau')\n",
        "!pwd"
      ],
      "execution_count": 0,
      "outputs": [
        {
          "output_type": "stream",
          "text": [
            "/content/gdrive/My Drive/Colab Notebooks/dand_p8_tableau\n"
          ],
          "name": "stdout"
        }
      ]
    },
    {
      "metadata": {
        "id": "CexulT4Y8k_9",
        "colab_type": "code",
        "outputId": "c626c980-a44d-4781-e675-a5b2358582bd",
        "colab": {
          "base_uri": "https://localhost:8080/",
          "height": 50
        }
      },
      "cell_type": "code",
      "source": [
        "!ls"
      ],
      "execution_count": 0,
      "outputs": [
        {
          "output_type": "stream",
          "text": [
            " data\t\t\t\t\t'Project Overview.gdoc'\n",
            " flight_delay_analysis_2008_2018.ipynb\t suicide_trends_analysis.ipynb\n"
          ],
          "name": "stdout"
        }
      ]
    },
    {
      "metadata": {
        "id": "X4lKj8Zd1EfG",
        "colab_type": "code",
        "colab": {}
      },
      "cell_type": "code",
      "source": [
        "import pandas as pd"
      ],
      "execution_count": 0,
      "outputs": []
    },
    {
      "metadata": {
        "id": "s8QLhQwAPdgY",
        "colab_type": "code",
        "colab": {}
      },
      "cell_type": "code",
      "source": [
        "df = pd.read_csv('data/suicide.csv')"
      ],
      "execution_count": 0,
      "outputs": []
    },
    {
      "metadata": {
        "id": "mbjbctJWVYNq",
        "colab_type": "text"
      },
      "cell_type": "markdown",
      "source": [
        "## Data\n",
        "\n",
        "The data for this project consists of one data file (comes originally from [Kaggle](https://www.kaggle.com/russellyates88/suicide-rates-overview-1985-to-2016)):\n",
        "\n",
        "- `suicide.csv`: 27820 data points (rows) with 12 columns\n",
        "\n",
        "The columns include:\n",
        "\n",
        "1. country\n",
        "- year\n",
        "- sex\n",
        "- age\n",
        "- suicides_no\n",
        "- population\n",
        "- suicides/100k pop\n",
        "- country-year\n",
        "- HDI for year\n",
        "- gdp_for_year (USD)\n",
        "- gdp_per_capita (USD)\n",
        "- generation"
      ]
    },
    {
      "metadata": {
        "id": "Yxu9FM4cgTRn",
        "colab_type": "code",
        "outputId": "f7fb4cdb-0903-4d5e-e18c-74637620b710",
        "colab": {
          "base_uri": "https://localhost:8080/",
          "height": 302
        }
      },
      "cell_type": "code",
      "source": [
        "df.info()"
      ],
      "execution_count": 0,
      "outputs": [
        {
          "output_type": "stream",
          "text": [
            "<class 'pandas.core.frame.DataFrame'>\n",
            "RangeIndex: 27820 entries, 0 to 27819\n",
            "Data columns (total 12 columns):\n",
            "country               27820 non-null object\n",
            "year                  27820 non-null int64\n",
            "sex                   27820 non-null object\n",
            "age                   27820 non-null object\n",
            "suicides_no           27820 non-null int64\n",
            "population            27820 non-null int64\n",
            "suicides/100k pop     27820 non-null float64\n",
            "country-year          27820 non-null object\n",
            "HDI for year          8364 non-null float64\n",
            " gdp_for_year ($)     27820 non-null object\n",
            "gdp_per_capita ($)    27820 non-null int64\n",
            "generation            27820 non-null object\n",
            "dtypes: float64(2), int64(4), object(6)\n",
            "memory usage: 2.5+ MB\n"
          ],
          "name": "stdout"
        }
      ]
    },
    {
      "metadata": {
        "id": "VmnLcLLPPii3",
        "colab_type": "code",
        "outputId": "19cb404c-8282-4afe-d344-271000dfb064",
        "colab": {
          "base_uri": "https://localhost:8080/",
          "height": 110
        }
      },
      "cell_type": "code",
      "source": [
        "df.sample()"
      ],
      "execution_count": 0,
      "outputs": [
        {
          "output_type": "execute_result",
          "data": {
            "text/html": [
              "<div>\n",
              "<style scoped>\n",
              "    .dataframe tbody tr th:only-of-type {\n",
              "        vertical-align: middle;\n",
              "    }\n",
              "\n",
              "    .dataframe tbody tr th {\n",
              "        vertical-align: top;\n",
              "    }\n",
              "\n",
              "    .dataframe thead th {\n",
              "        text-align: right;\n",
              "    }\n",
              "</style>\n",
              "<table border=\"1\" class=\"dataframe\">\n",
              "  <thead>\n",
              "    <tr style=\"text-align: right;\">\n",
              "      <th></th>\n",
              "      <th>country</th>\n",
              "      <th>year</th>\n",
              "      <th>sex</th>\n",
              "      <th>age</th>\n",
              "      <th>suicides_no</th>\n",
              "      <th>population</th>\n",
              "      <th>suicides/100k pop</th>\n",
              "      <th>country-year</th>\n",
              "      <th>HDI for year</th>\n",
              "      <th>gdp_for_year ($)</th>\n",
              "      <th>gdp_per_capita ($)</th>\n",
              "      <th>generation</th>\n",
              "    </tr>\n",
              "  </thead>\n",
              "  <tbody>\n",
              "    <tr>\n",
              "      <th>27050</th>\n",
              "      <td>United States</td>\n",
              "      <td>2001</td>\n",
              "      <td>male</td>\n",
              "      <td>5-14 years</td>\n",
              "      <td>214</td>\n",
              "      <td>21032860</td>\n",
              "      <td>1.02</td>\n",
              "      <td>United States2001</td>\n",
              "      <td>NaN</td>\n",
              "      <td>10,621,824,000,000</td>\n",
              "      <td>40018</td>\n",
              "      <td>Millenials</td>\n",
              "    </tr>\n",
              "  </tbody>\n",
              "</table>\n",
              "</div>"
            ],
            "text/plain": [
              "             country  year   sex         age  suicides_no  population  \\\n",
              "27050  United States  2001  male  5-14 years          214    21032860   \n",
              "\n",
              "       suicides/100k pop       country-year  HDI for year   gdp_for_year ($)   \\\n",
              "27050               1.02  United States2001           NaN  10,621,824,000,000   \n",
              "\n",
              "       gdp_per_capita ($)  generation  \n",
              "27050               40018  Millenials  "
            ]
          },
          "metadata": {
            "tags": []
          },
          "execution_count": 20
        }
      ]
    },
    {
      "metadata": {
        "id": "gS_t4PG6PpdF",
        "colab_type": "code",
        "outputId": "fefd3687-3125-4948-b5aa-1891ab03e05a",
        "colab": {
          "base_uri": "https://localhost:8080/",
          "height": 134
        }
      },
      "cell_type": "code",
      "source": [
        "df['age'].value_counts()"
      ],
      "execution_count": 0,
      "outputs": [
        {
          "output_type": "execute_result",
          "data": {
            "text/plain": [
              "35-54 years    4642\n",
              "55-74 years    4642\n",
              "75+ years      4642\n",
              "25-34 years    4642\n",
              "15-24 years    4642\n",
              "5-14 years     4610\n",
              "Name: age, dtype: int64"
            ]
          },
          "metadata": {
            "tags": []
          },
          "execution_count": 13
        }
      ]
    },
    {
      "metadata": {
        "id": "QDu3Wr-BgnIX",
        "colab_type": "code",
        "outputId": "bc31d005-4295-4975-f13f-8c50157a35fd",
        "colab": {
          "base_uri": "https://localhost:8080/",
          "height": 571
        }
      },
      "cell_type": "code",
      "source": [
        "df['year'].value_counts()"
      ],
      "execution_count": 0,
      "outputs": [
        {
          "output_type": "execute_result",
          "data": {
            "text/plain": [
              "2009    1068\n",
              "2001    1056\n",
              "2010    1056\n",
              "2007    1032\n",
              "2011    1032\n",
              "2002    1032\n",
              "2003    1032\n",
              "2000    1032\n",
              "2006    1020\n",
              "2008    1020\n",
              "2005    1008\n",
              "2004    1008\n",
              "1999     996\n",
              "2012     972\n",
              "2013     960\n",
              "1998     948\n",
              "2014     936\n",
              "1995     936\n",
              "1996     924\n",
              "1997     924\n",
              "1994     816\n",
              "1992     780\n",
              "1993     780\n",
              "1990     768\n",
              "1991     768\n",
              "2015     744\n",
              "1987     648\n",
              "1989     624\n",
              "1988     588\n",
              "1986     576\n",
              "1985     576\n",
              "2016     160\n",
              "Name: year, dtype: int64"
            ]
          },
          "metadata": {
            "tags": []
          },
          "execution_count": 24
        }
      ]
    },
    {
      "metadata": {
        "id": "JNY9jlchg7dp",
        "colab_type": "code",
        "outputId": "48351591-5f38-4c52-e0ca-546414242345",
        "colab": {
          "base_uri": "https://localhost:8080/",
          "height": 67
        }
      },
      "cell_type": "code",
      "source": [
        "df['sex'].value_counts()"
      ],
      "execution_count": 0,
      "outputs": [
        {
          "output_type": "execute_result",
          "data": {
            "text/plain": [
              "male      13910\n",
              "female    13910\n",
              "Name: sex, dtype: int64"
            ]
          },
          "metadata": {
            "tags": []
          },
          "execution_count": 19
        }
      ]
    }
  ]
}